{
 "cells": [
  {
   "cell_type": "markdown",
   "id": "911b3b37-3b29-4833-94f2-bfe47af00c83",
   "metadata": {},
   "source": [
    "# Lesson 6: Event Planner Agent"
   ]
  },
  {
   "cell_type": "code",
   "execution_count": 1,
   "id": "f5762271-8736-4e94-9444-8c92bd0e8074",
   "metadata": {
    "height": 65
   },
   "outputs": [],
   "source": [
    "from dotenv import load_dotenv\n",
    "\n",
    "_ = load_dotenv()"
   ]
  },
  {
   "cell_type": "code",
   "execution_count": 2,
   "id": "d0168aee-bce9-4d60-b827-f86a88187e31",
   "metadata": {
    "height": 149
   },
   "outputs": [],
   "source": [
    "from langgraph.graph import StateGraph, END\n",
    "from typing import TypedDict, Annotated, List\n",
    "import operator\n",
    "from langgraph.checkpoint.sqlite import SqliteSaver\n",
    "from langchain_core.messages import AnyMessage, SystemMessage, HumanMessage, AIMessage, ChatMessage\n",
    "\n",
    "memory = SqliteSaver.from_conn_string(\":memory:\")"
   ]
  },
  {
   "cell_type": "code",
   "execution_count": 28,
   "id": "2589c5b6-6cc2-4594-9a17-dccdcf676054",
   "metadata": {
    "height": 167
   },
   "outputs": [],
   "source": [
    "class AgentState(TypedDict):\n",
    "    task:str\n",
    "    venue_plan: str\n",
    "    logistic_plan: str\n",
    "    draft: str\n",
    "    critique: str\n",
    "    content: List[str]\n",
    "    revision_number: int\n",
    "    max_revisions: int"
   ]
  },
  {
   "cell_type": "code",
   "execution_count": 29,
   "id": "a2ba84ec-c172-4de7-ac55-e3158a531b23",
   "metadata": {
    "height": 48
   },
   "outputs": [],
   "source": [
    "from langchain_openai import ChatOpenAI\n",
    "model = ChatOpenAI(model=\"gpt-4o\", temperature=0)"
   ]
  },
  {
   "cell_type": "code",
   "execution_count": 30,
   "id": "876d5092-b8ef-4e38-b4d7-0e80c609bf7a",
   "metadata": {
    "height": 98
   },
   "outputs": [],
   "source": [
    "VENUE_PLAN_PROMPT = \"\"\"You are an expert venue planner tasked with planning a high level event. \\\n",
    "Find a venue that meets criteria for an event. expected output is all the details of a specifically chosen \\\n",
    "venue you found to accommodate the event. With a keen sense of space and understanding of event logistics, you excel at finding and securing        \"the perfect venue that fits the event's theme, \"\n",
    "size, and budget constraints.\"\"\""
   ]
  },
  {
   "cell_type": "code",
   "execution_count": 31,
   "id": "694666b8",
   "metadata": {
    "height": 115
   },
   "outputs": [],
   "source": [
    "LOGISTIC_PROMPT = \"\"\" you ar a logistic manager. your goal is to Manage all logistics for the event \n",
    "including catering and equipments. You need to be Organized and detail-oriented, you ensure that every logistical aspect of the event \n",
    "from catering to equipment setup, flawlessly executed to create a seamless experience.\n",
    "\n",
    "\"\"\""
   ]
  },
  {
   "cell_type": "code",
   "execution_count": 32,
   "id": "10084a02-2928-4945-9f7c-ad3f5b33caf7",
   "metadata": {
    "height": 166
   },
   "outputs": [],
   "source": [
    "PLANNER_PROMPT = \"\"\"You are an event planning assistant tasked with plan for a musical event in colombo srilanka.\\\n",
    "Generate the best plan possible for the user's request and the initial outline. \\\n",
    "If the user provides critique, respond with a revised version of your previous attempts. \\\n",
    "Utilize all the information below as needed: \n",
    "\n",
    "------\n",
    "\n",
    "{content}\"\"\""
   ]
  },
  {
   "cell_type": "code",
   "execution_count": 33,
   "id": "714d1205-f8fc-4912-b148-2a45da99219c",
   "metadata": {
    "height": 81
   },
   "outputs": [],
   "source": [
    "EDITOR_PROMPT = \"\"\"You are a editor grading an essay submission. \\\n",
    "Generate critique and recommendations for the user's submission. \\\n",
    "Provide detailed recommendations, including requests for length, depth, style, etc.\"\"\""
   ]
  },
  {
   "cell_type": "code",
   "execution_count": 34,
   "id": "83588e70-254f-4f83-a510-c8ae81e729b0",
   "metadata": {
    "height": 98
   },
   "outputs": [],
   "source": [
    "RESEARCH_PLAN_PROMPT = \"\"\"You are a researcher charged with providing information that can \\\n",
    "be used when planning the following plan. Generate a list of search queries that will gather \\\n",
    "any relevant information. Only generate 3 queries max.\"\"\"\n"
   ]
  },
  {
   "cell_type": "code",
   "execution_count": 35,
   "id": "6cb3ef4c-58b3-401b-b104-0d51e553d982",
   "metadata": {
    "height": 98
   },
   "outputs": [],
   "source": [
    "RESEARCH_CRITIQUE_PROMPT = \"\"\"You are a researcher charged with providing information that can \\\n",
    "be used when making any requested revisions (as outlined below). \\\n",
    "Generate a list of search queries that will gather any relevant information. Only generate 3 queries max.\"\"\"\n"
   ]
  },
  {
   "cell_type": "code",
   "execution_count": 36,
   "id": "dc3293b7-a50c-43c8-a022-8975e1e444b8",
   "metadata": {
    "height": 82
   },
   "outputs": [],
   "source": [
    "from langchain_core.pydantic_v1 import BaseModel\n",
    "\n",
    "class Queries(BaseModel):\n",
    "    queries: List[str]"
   ]
  },
  {
   "cell_type": "code",
   "execution_count": 37,
   "id": "0722c3d4-4cbf-43bf-81b0-50f634c4ce61",
   "metadata": {
    "height": 65
   },
   "outputs": [],
   "source": [
    "from tavily import TavilyClient\n",
    "import os\n",
    "tavily = TavilyClient(api_key=os.environ[\"TAVILY_API_KEY\"])"
   ]
  },
  {
   "cell_type": "code",
   "execution_count": 38,
   "id": "6b2f82fe-3ec4-4917-be51-9fb10d1317fa",
   "metadata": {
    "height": 133
   },
   "outputs": [],
   "source": [
    "def venue_plan_node(state: AgentState):\n",
    "    messages = [\n",
    "        SystemMessage(content=VENUE_PLAN_PROMPT), \n",
    "        HumanMessage(content=state['task'])\n",
    "    ]\n",
    "    response = model.invoke(messages)\n",
    "    return {\"venue_plan\": response.content}"
   ]
  },
  {
   "cell_type": "code",
   "execution_count": 39,
   "id": "120b71cf",
   "metadata": {
    "height": 133
   },
   "outputs": [],
   "source": [
    "def logistic_manage_node(state: AgentState):\n",
    "    messages = [\n",
    "        SystemMessage(content=LOGISTIC_PROMPT), \n",
    "        HumanMessage(content=state['task'])\n",
    "    ]\n",
    "    response = model.invoke(messages)\n",
    "    return {\"logistic_plan\": response.content}"
   ]
  },
  {
   "cell_type": "code",
   "execution_count": 40,
   "id": "ee0fe1c7-77e2-499c-a2f9-1f739bb6ddf0",
   "metadata": {
    "height": 201
   },
   "outputs": [],
   "source": [
    "def research_plan_node(state: AgentState):\n",
    "    queries = model.with_structured_output(Queries).invoke([\n",
    "        SystemMessage(content=RESEARCH_PLAN_PROMPT),\n",
    "        HumanMessage(content=state['task'])\n",
    "    ])\n",
    "    content = state['content'] or []\n",
    "    for q in queries.queries:\n",
    "        response = tavily.search(query=q, max_results=2)\n",
    "        for r in response['results']:\n",
    "            content.append(r['content'])\n",
    "    return {\"content\": content}"
   ]
  },
  {
   "cell_type": "code",
   "execution_count": 41,
   "id": "98f303b1-a4d0-408c-8cc0-515ff980717f",
   "metadata": {
    "height": 302
   },
   "outputs": [],
   "source": [
    "def planner_node(state: AgentState):\n",
    "    content = \"\\n\\n\".join(state['content'] or [])\n",
    "    user_message = HumanMessage(\n",
    "        content=f\"{state['task']} \\n\\n Here is venue plan:\\n\\n{state['venue_plan']}  \\n\\n Here is logistic plan:\\n\\n{state['logistic_plan']}\")\n",
    "    messages = [\n",
    "        SystemMessage(\n",
    "            content=PLANNER_PROMPT.format(content=content)\n",
    "        ),\n",
    "        user_message\n",
    "        ]\n",
    "    response = model.invoke(messages)\n",
    "    return {\n",
    "        \"draft\": response.content, \n",
    "        \"revision_number\": state.get(\"revision_number\", 1) + 1\n",
    "    }\n"
   ]
  },
  {
   "cell_type": "code",
   "execution_count": 42,
   "id": "bf4dcb93-6298-4cfd-b3ce-61dfac7fb35f",
   "metadata": {
    "height": 133
   },
   "outputs": [],
   "source": [
    "def editor_node(state: AgentState):\n",
    "    messages = [\n",
    "        SystemMessage(content=EDITOR_PROMPT), \n",
    "        HumanMessage(content=state['draft'])\n",
    "    ]\n",
    "    response = model.invoke(messages)\n",
    "    return {\"critique\": response.content}"
   ]
  },
  {
   "cell_type": "code",
   "execution_count": 43,
   "id": "932883a4-c722-42bb-aec0-b4f41c5c81a4",
   "metadata": {
    "height": 201
   },
   "outputs": [],
   "source": [
    "def research_critique_node(state: AgentState):\n",
    "    queries = model.with_structured_output(Queries).invoke([\n",
    "        SystemMessage(content=RESEARCH_CRITIQUE_PROMPT),\n",
    "        HumanMessage(content=state['critique'])\n",
    "    ])\n",
    "    content = state['content'] or []\n",
    "    for q in queries.queries:\n",
    "        response = tavily.search(query=q, max_results=2)\n",
    "        for r in response['results']:\n",
    "            content.append(r['content'])\n",
    "    return {\"content\": content}"
   ]
  },
  {
   "cell_type": "code",
   "execution_count": 44,
   "id": "ff362f49-dcf1-4ea1-a86c-e516e9ab897d",
   "metadata": {
    "height": 82
   },
   "outputs": [],
   "source": [
    "def should_continue(state):\n",
    "    if state[\"revision_number\"] > state[\"max_revisions\"]:\n",
    "        return END\n",
    "    return \"reflect\""
   ]
  },
  {
   "cell_type": "code",
   "execution_count": 45,
   "id": "a7e15a20-83d7-434c-8551-bce8dcc32be0",
   "metadata": {
    "height": 31
   },
   "outputs": [],
   "source": [
    "builder = StateGraph(AgentState)"
   ]
  },
  {
   "cell_type": "code",
   "execution_count": 46,
   "id": "54ab2c74-f32e-490c-a85d-932d11444210",
   "metadata": {
    "height": 116
   },
   "outputs": [],
   "source": [
    "builder.add_node(\"venue_planner\", venue_plan_node)\n",
    "builder.add_node(\"logistic_manager\", logistic_manage_node)\n",
    "builder.add_node(\"generate\", planner_node)\n",
    "builder.add_node(\"editor\", editor_node)\n",
    "builder.add_node(\"research_plan\", research_plan_node)\n",
    "builder.add_node(\"research_critique\", research_critique_node)"
   ]
  },
  {
   "cell_type": "code",
   "execution_count": 47,
   "id": "a833d3ce-bd31-4319-811d-decff226b970",
   "metadata": {
    "height": 31
   },
   "outputs": [],
   "source": [
    "builder.set_entry_point(\"venue_planner\")"
   ]
  },
  {
   "cell_type": "code",
   "execution_count": 48,
   "id": "76e93cce-6eab-4c7c-ac64-e9993fdb30d6",
   "metadata": {
    "height": 116
   },
   "outputs": [],
   "source": [
    "builder.add_conditional_edges(\n",
    "    \"generate\", \n",
    "    should_continue, \n",
    "    {END: END, \"editor\": \"editor\"}\n",
    ")\n"
   ]
  },
  {
   "cell_type": "code",
   "execution_count": 49,
   "id": "fd2d0990-a932-423f-9ff3-5cada58c5f32",
   "metadata": {
    "height": 99
   },
   "outputs": [],
   "source": [
    "builder.add_edge(\"venue_planner\", \"logistic_manager\")\n",
    "builder.add_edge(\"logistic_manager\", \"research_plan\")\n",
    "builder.add_edge(\"research_plan\", \"generate\")\n",
    "builder.add_edge(\"editor\", \"research_critique\")\n",
    "builder.add_edge(\"research_critique\", \"generate\")"
   ]
  },
  {
   "cell_type": "code",
   "execution_count": 50,
   "id": "27cde654-64e2-48bc-80a9-0ed668ccb7dc",
   "metadata": {
    "height": 31
   },
   "outputs": [],
   "source": [
    "graph = builder.compile(checkpointer=memory)"
   ]
  },
  {
   "cell_type": "code",
   "execution_count": 51,
   "id": "4871f644-b131-4065-b7ce-b82c20a41f11",
   "metadata": {
    "height": 65
   },
   "outputs": [
    {
     "data": {
      "image/png": "[encoded data removed]",
      "text/plain": [
       "<IPython.core.display.Image object>"
      ]
     },
     "execution_count": 51,
     "metadata": {},
     "output_type": "execute_result"
    }
   ],
   "source": [
    "from IPython.display import Image\n",
    "\n",
    "Image(graph.get_graph().draw_png())"
   ]
  },
  {
   "cell_type": "code",
   "execution_count": null,
   "id": "98f3be1d-cc4c-41fa-9863-3e386e88e305",
   "metadata": {
    "height": 149
   },
   "outputs": [
    {
     "name": "stdout",
     "output_type": "stream",
     "text": [
      "{'venue_planner': {'venue_plan': 'For an open ground musical event in Colombo, Sri Lanka, I recommend considering the following venue:\\n\\n### Venue: Galle Face Green\\n\\n#### Overview:\\nGalle Face Green is a prominent ocean-side urban park that stretches for half a kilometer along the coast in the heart of Colombo. It is one of the most popular and iconic locations in the city, making it an ideal spot for a large-scale musical event.\\n\\n#### Key Details:\\n\\n- **Location:** Galle Road, Colombo, Sri Lanka\\n- **Capacity:** Can accommodate up to 15,000 people, depending on the setup and stage configuration.\\n- **Accessibility:** Easily accessible from various parts of the city with ample public transportation options, including buses and taxis.\\n- **Parking:** Limited on-site parking, but additional parking can be arranged in nearby areas.\\n- **Facilities:** \\n  - Open grassy area suitable for large crowds.\\n  - Scenic ocean views providing a picturesque backdrop for the event.\\n  - Proximity to hotels, restaurants, and other amenities.\\n  - Basic amenities such as restrooms and first aid stations can be arranged.\\n\\n#### Advantages:\\n- **Scenic Location:** The venue offers stunning views of the Indian Ocean, enhancing the overall experience for attendees.\\n- **Space:** The large open area allows for flexible stage setups, audience seating, and vendor stalls.\\n- **Popularity:** Being a well-known landmark, it can attract a larger audience and adds prestige to the event.\\n- **Versatility:** Suitable for various types of musical performances, from rock concerts to classical music festivals.\\n\\n#### Considerations:\\n- **Weather:** As an open ground venue, weather conditions need to be monitored. It is advisable to have contingency plans such as tents or temporary shelters.\\n- **Permits:** Necessary permits and approvals from local authorities will be required for hosting the event.\\n- **Sound Restrictions:** Being in an urban area, there may be sound level restrictions that need to be adhered to.\\n\\n#### Budget:\\n- **Venue Rental:** Costs can vary based on the duration of the event and specific requirements. It is recommended to contact the Colombo Municipal Council for detailed pricing.\\n- **Additional Costs:** Include stage setup, sound and lighting equipment, security, sanitation facilities, and event management services.\\n\\n#### Contact Information:\\n- **Colombo Municipal Council**\\n  - **Phone:** +94 11 269 1922\\n  - **Email:** info@colombo.mc.gov.lk\\n  - **Website:** [Colombo Municipal Council](http://www.colombo.mc.gov.lk/)\\n\\n### Conclusion:\\nGalle Face Green is an excellent choice for an open ground musical event in Colombo, offering a blend of scenic beauty, ample space, and central location. With proper planning and coordination, it can provide a memorable experience for both performers and attendees.'}}\n",
      "{'logistic_manager': {'logistic_plan': 'Certainly! Planning an open ground musical event involves several key steps to ensure everything runs smoothly. Here’s a comprehensive plan for a musical event in Colombo, Sri Lanka:\\n\\n### Pre-Event Planning\\n\\n#### 1. **Venue Selection and Permits**\\n   - **Venue:** Select an open ground in Colombo that can accommodate the expected crowd.\\n   - **Permits:** Obtain necessary permits from local authorities for hosting the event, including noise permits and public gathering permits.\\n\\n#### 2. **Budgeting**\\n   - **Estimate Costs:** Include costs for venue, equipment, catering, security, marketing, and contingencies.\\n   - **Sponsorships:** Seek sponsorships to offset costs.\\n\\n#### 3. **Date and Time**\\n   - **Select Date:** Choose a date that does not clash with other major events in Colombo.\\n   - **Time:** Decide on the event duration and schedule.\\n\\n### Logistics Planning\\n\\n#### 4. **Catering**\\n   - **Vendors:** Select reputable catering vendors who can handle large crowds.\\n   - **Menu:** Plan a diverse menu that includes vegetarian, non-vegetarian, and vegan options.\\n   - **Beverages:** Ensure a variety of non-alcoholic and alcoholic beverages.\\n   - **Setup:** Arrange food stalls or food trucks in a designated area.\\n\\n#### 5. **Equipment**\\n   - **Stage and Sound:** Hire a professional company to set up the stage, sound system, and lighting.\\n   - **Power Supply:** Arrange for generators and backup power.\\n   - **Seating:** Depending on the event type, arrange for seating or standing areas.\\n   - **Restrooms:** Rent portable restrooms and ensure they are well-maintained.\\n\\n#### 6. **Security and Safety**\\n   - **Security Personnel:** Hire a security team to manage crowd control and ensure safety.\\n   - **First Aid:** Set up a first aid station with trained medical staff.\\n   - **Emergency Exits:** Clearly mark emergency exits and ensure they are accessible.\\n\\n#### 7. **Transportation and Parking**\\n   - **Parking:** Arrange for ample parking space and manage traffic flow.\\n   - **Shuttle Services:** Provide shuttle services from key locations if necessary.\\n   - **Signage:** Use clear signage for directions and information.\\n\\n### Event Day Execution\\n\\n#### 8. **Setup**\\n   - **Early Setup:** Begin setup early to ensure everything is in place before the event starts.\\n   - **Sound Check:** Conduct sound checks and equipment tests.\\n   - **Vendor Coordination:** Ensure all vendors are set up and ready.\\n\\n#### 9. **Event Management**\\n   - **Staff Briefing:** Brief all staff and volunteers on their roles and responsibilities.\\n   - **Guest Services:** Set up information booths and help desks.\\n   - **Crowd Management:** Monitor crowd flow and manage any issues promptly.\\n\\n#### 10. **Post-Event**\\n   - **Cleanup:** Arrange for a cleanup crew to restore the venue.\\n   - **Feedback:** Collect feedback from attendees, vendors, and staff.\\n   - **Review:** Conduct a post-event review to identify successes and areas for improvement.\\n\\n### Additional Considerations\\n\\n#### 11. **Marketing and Promotion**\\n   - **Advertising:** Use social media, local media, and posters to promote the event.\\n   - **Ticketing:** Set up an online ticketing system and physical ticket outlets.\\n\\n#### 12. **Sustainability**\\n   - **Waste Management:** Provide recycling bins and manage waste effectively.\\n   - **Eco-Friendly Options:** Use biodegradable materials where possible.\\n\\n#### 13. **Contingency Planning**\\n   - **Weather:** Have a plan in place for adverse weather conditions.\\n   - **Backup Plans:** Prepare for any unexpected issues with backup plans.\\n\\nBy following this detailed plan, you can ensure that the musical event in Colombo is a success, providing a memorable experience for all attendees.'}}\n",
      "{'research_plan': {'content': ['Line Ups, Schedules, Tickets And Concert Events In Colombo. Music to ears is like a soul to life. Escape the monotonous life and find pieces of you by attending live music events, festivals and concerts in Colombo. From classical music to jazz to pop to heavy metal to EDM to rock concerts in Colombo, it is a much complex classification lineup ...', 'Live Music Shows, Tickets & Vanues In Colombo. For the ones whose heart beats for music, live music events are something that you will absolutely enjoy. Groove on the most upbeat songs and enjoy the best of live music in Colombo. You will find music of all kinds and genres, discover the ones that fit your interests and enjoy the spellbinding ...', 'regulations and be accompanied by the fees specified in \"schedule V\". (2) Receipt of applications, Processing of building applications, charging of relevant Processing fees and issuance of building Permits/approvals to be obtained from Authority for the following activities. i.', 'A modern regulatory and legal framework designed for the international market, to guarantee ease of doing business. Businesses registered within Port City Colombo, are governed by the laws and regulations of the Colombo Port City Economic Commission Act, and thus are privy to unbound financial and business growth advantages of the Special ...', 'This enables us to cater to indoor & outdoor functions. We are delighted and proud to announce that now we are equipped with the world famous brands and latest technology Live Sound Equipment - Music for Live Performance Turbosound + Harman Audio JBL Professional Sound Systems to experience high-quality audio. Call Now: 0 729 729 000.', 'Halogen Lights for Rent 500W. රු 1,000.00 / day. Select date (s) Hot. Lighting Rental, Rent a Tool.', 'Line Ups, Schedules, Tickets And Concert Events In Colombo. Music to ears is like a soul to life. Escape the monotonous life and find pieces of you by attending live music events, festivals and concerts in Colombo. From classical music to jazz to pop to heavy metal to EDM to rock concerts in Colombo, it is a much complex classification lineup ...', 'Stay up-to-date on the latest events and happenings at the Colombo Lotus Tower. From cultural festivals to corporate conferences, our tower is the perfect venue for any occasion. ... Open Arena. Join us for the Colombo Next Level Party with Doctor! ... Lotus Tower Food Festival & Live Music. October 16, 2022 Band Night and DJ Event. October ...', \"{'location': {'name': 'Colombo', 'region': 'Western', 'country': 'Sri Lanka', 'lat': 6.93, 'lon': 79.85, 'tz_id': 'Asia/Colombo', 'localtime_epoch': 1717935739, 'localtime': '2024-06-09 17:52'}, 'current': {'last_updated_epoch': 1717935300, 'last_updated': '2024-06-09 17:45', 'temp_c': 30.4, 'temp_f': 86.7, 'is_day': 1, 'condition': {'text': 'Partly cloudy', 'icon': '//cdn.weatherapi.com/weather/64x64/day/116.png', 'code': 1003}, 'wind_mph': 15.0, 'wind_kph': 24.1, 'wind_degree': 230, 'wind_dir': 'SW', 'pressure_mb': 1008.0, 'pressure_in': 29.77, 'precip_mm': 0.71, 'precip_in': 0.03, 'humidity': 70, 'cloud': 50, 'feelslike_c': 39.4, 'feelslike_f': 103.0, 'windchill_c': 27.6, 'windchill_f': 81.8, 'heatindex_c': 32.1, 'heatindex_f': 89.8, 'dewpoint_c': 24.6, 'dewpoint_f': 76.4, 'vis_km': 10.0, 'vis_miles': 6.0, 'uv': 6.0, 'gust_mph': 20.7, 'gust_kph': 33.3}}\", \"1. Sri Lanka in December is a perfect escape. December is a fantastic time to visit Sri Lanka as the island nation experiences its northeast monsoon, bringing clear skies, sunshine, and pleasant temperatures. It's the ideal weather to explore the rich cultural heritage and lush landscapes of this remarkable country.\", '(LANKAPUVATH | COLOMBO) -The Inspector-General of Police CD Wickramaratne has instructed senior police officers to take measures to issue permits for outdoor musical performances. Accordingly, such outdoor musical performances are permitted subject to health guidelines. Outdoor concerts are permitted to be held on Monday through Thursday from 6.00 pm to 10.00 pm and on Fridays and Saturdays ...', 'The Police said that outdoor events are permitted to be held until 10.00 p.m. from Mondays to Thursdays and until 1.00 a.m. on Fridays and Saturdays. Outdoor events are permitted on Sunday until 12.30 a.m. Sound permits will be issued for the respective events by the area Police. (Colombo Gazette) Post Views: 160.']}}\n"
     ]
    }
   ],
   "source": [
    "thread = {\"configurable\": {\"thread_id\": \"1\"}}\n",
    "for s in graph.stream({\n",
    "    'task': \"plan for a open ground musical event is colombo, srilanka\",\n",
    "    \"max_revisions\": 2,\n",
    "    \"revision_number\": 1,\n",
    "}, thread):\n",
    "    print(s)"
   ]
  },
  {
   "cell_type": "markdown",
   "id": "d8236693",
   "metadata": {},
   "source": [
    "{'venue_planner': {'venue_plan': 'For an open ground musical event in Colombo, Sri Lanka, I recommend considering the following venue:\\n\\n### Venue: Galle Face Green\\n\\n#### Overview:\\nGalle Face Green is a prominent ocean-side urban park that stretches for half a kilometer along the coast in the heart of Colombo. It is one of the most popular and iconic locations in the city, making it an ideal spot for a large-scale musical event.\\n\\n#### Key Details:\\n\\n- **Location:** Galle Road, Colombo, Sri Lanka\\n- **Capacity:** Can accommodate up to 15,000 people, depending on the setup and stage configuration.\\n- **Accessibility:** Easily accessible from various parts of the city with ample public transportation options, including buses and taxis.\\n- **Parking:** Limited on-site parking, but additional parking can be arranged in nearby areas.\\n- **Facilities:** \\n  - Open grassy area suitable for large crowds.\\n  - Scenic ocean views providing a picturesque backdrop for the event.\\n  - Proximity to hotels, restaurants, and other amenities.\\n  - Basic amenities such as restrooms and first aid stations can be arranged.\\n\\n#### Advantages:\\n- **Scenic Location:** The venue offers stunning views of the Indian Ocean, enhancing the overall experience for attendees.\\n- **Space:** The large open area allows for flexible stage setups, audience seating, and vendor stalls.\\n- **Popularity:** Being a well-known landmark, it can attract a larger audience and adds prestige to the event.\\n- **Versatility:** Suitable for various types of musical performances, from rock concerts to classical music festivals.\\n\\n#### Considerations:\\n- **Weather:** As an open ground venue, weather conditions need to be monitored. It is advisable to have contingency plans such as tents or temporary shelters.\\n- **Permits:** Necessary permits and approvals from local authorities will be required for hosting the event.\\n- **Sound Restrictions:** Being in an urban area, there may be sound level restrictions that need to be adhered to.\\n\\n#### Budget:\\n- **Venue Rental:** Costs can vary based on the duration of the event and specific requirements. It is recommended to contact the Colombo Municipal Council for detailed pricing.\\n- **Additional Costs:** Include stage setup, sound and lighting equipment, security, sanitation facilities, and event management services.\\n\\n#### Contact Information:\\n- **Colombo Municipal Council**\\n  - **Phone:** +94 11 269 1922\\n  - **Email:** info@colombo.mc.gov.lk\\n  - **Website:** [Colombo Municipal Council](http://www.colombo.mc.gov.lk/)\\n\\n### Conclusion:\\nGalle Face Green is an excellent choice for an open ground musical event in Colombo, offering a blend of scenic beauty, ample space, and central location. With proper planning and coordination, it can provide a memorable experience for both performers and attendees.'}}\n",
    "{'logistic_manager': {'logistic_plan': 'Certainly! Planning an open ground musical event involves several key steps to ensure everything runs smoothly. Here’s a comprehensive plan for a musical event in Colombo, Sri Lanka:\\n\\n### Pre-Event Planning\\n\\n#### 1. **Venue Selection and Permits**\\n   - **Venue:** Select an open ground in Colombo that can accommodate the expected crowd.\\n   - **Permits:** Obtain necessary permits from local authorities for hosting the event, including noise permits and public gathering permits.\\n\\n#### 2. **Budgeting**\\n   - **Estimate Costs:** Include costs for venue, equipment, catering, security, marketing, and contingencies.\\n   - **Sponsorships:** Seek sponsorships to offset costs.\\n\\n#### 3. **Date and Time**\\n   - **Select Date:** Choose a date that does not clash with other major events in Colombo.\\n   - **Time:** Decide on the event duration and schedule.\\n\\n### Logistics Planning\\n\\n#### 4. **Catering**\\n   - **Vendors:** Select reputable catering vendors who can handle large crowds.\\n   - **Menu:** Plan a diverse menu that includes vegetarian, non-vegetarian, and vegan options.\\n   - **Beverages:** Ensure a variety of non-alcoholic and alcoholic beverages.\\n   - **Setup:** Arrange food stalls or food trucks in a designated area.\\n\\n#### 5. **Equipment**\\n   - **Stage and Sound:** Hire a professional company to set up the stage, sound system, and lighting.\\n   - **Power Supply:** Arrange for generators and backup power.\\n   - **Seating:** Depending on the event type, arrange for seating or standing areas.\\n   - **Restrooms:** Rent portable restrooms and ensure they are well-maintained.\\n\\n#### 6. **Security and Safety**\\n   - **Security Personnel:** Hire a security team to manage crowd control and ensure safety.\\n   - **First Aid:** Set up a first aid station with trained medical staff.\\n   - **Emergency Exits:** Clearly mark emergency exits and ensure they are accessible.\\n\\n#### 7. **Transportation and Parking**\\n   - **Parking:** Arrange for ample parking space and manage traffic flow.\\n   - **Shuttle Services:** Provide shuttle services from key locations if necessary.\\n   - **Signage:** Use clear signage for directions and information.\\n\\n### Event Day Execution\\n\\n#### 8. **Setup**\\n   - **Early Setup:** Begin setup early to ensure everything is in place before the event starts.\\n   - **Sound Check:** Conduct sound checks and equipment tests.\\n   - **Vendor Coordination:** Ensure all vendors are set up and ready.\\n\\n#### 9. **Event Management**\\n   - **Staff Briefing:** Brief all staff and volunteers on their roles and responsibilities.\\n   - **Guest Services:** Set up information booths and help desks.\\n   - **Crowd Management:** Monitor crowd flow and manage any issues promptly.\\n\\n#### 10. **Post-Event**\\n   - **Cleanup:** Arrange for a cleanup crew to restore the venue.\\n   - **Feedback:** Collect feedback from attendees, vendors, and staff.\\n   - **Review:** Conduct a post-event review to identify successes and areas for improvement.\\n\\n### Additional Considerations\\n\\n#### 11. **Marketing and Promotion**\\n   - **Advertising:** Use social media, local media, and posters to promote the event.\\n   - **Ticketing:** Set up an online ticketing system and physical ticket outlets.\\n\\n#### 12. **Sustainability**\\n   - **Waste Management:** Provide recycling bins and manage waste effectively.\\n   - **Eco-Friendly Options:** Use biodegradable materials where possible.\\n\\n#### 13. **Contingency Planning**\\n   - **Weather:** Have a plan in place for adverse weather conditions.\\n   - **Backup Plans:** Prepare for any unexpected issues with backup plans.\\n\\nBy following this detailed plan, you can ensure that the musical event in Colombo is a success, providing a memorable experience for all attendees.'}}\n",
    "{'research_plan': {'content': ['Line Ups, Schedules, Tickets And Concert Events In Colombo. Music to ears is like a soul to life. Escape the monotonous life and find pieces of you by attending live music events, festivals and concerts in Colombo. From classical music to jazz to pop to heavy metal to EDM to rock concerts in Colombo, it is a much complex classification lineup ...', 'Live Music Shows, Tickets & Vanues In Colombo. For the ones whose heart beats for music, live music events are something that you will absolutely enjoy. Groove on the most upbeat songs and enjoy the best of live music in Colombo. You will find music of all kinds and genres, discover the ones that fit your interests and enjoy the spellbinding ...', 'regulations and be accompanied by the fees specified in \"schedule V\". (2) Receipt of applications, Processing of building applications, charging of relevant Processing fees and issuance of building Permits/approvals to be obtained from Authority for the following activities. i.', 'A modern regulatory and legal framework designed for the international market, to guarantee ease of doing business. Businesses registered within Port City Colombo, are governed by the laws and regulations of the Colombo Port City Economic Commission Act, and thus are privy to unbound financial and business growth advantages of the Special ...', 'This enables us to cater to indoor & outdoor functions. We are delighted and proud to announce that now we are equipped with the world famous brands and latest technology Live Sound Equipment - Music for Live Performance Turbosound + Harman Audio JBL Professional Sound Systems to experience high-quality audio. Call Now: 0 729 729 000.', 'Halogen Lights for Rent 500W. රු 1,000.00 / day. Select date (s) Hot. Lighting Rental, Rent a Tool.', 'Line Ups, Schedules, Tickets And Concert Events In Colombo. Music to ears is like a soul to life. Escape the monotonous life and find pieces of you by attending live music events, festivals and concerts in Colombo. From classical music to jazz to pop to heavy metal to EDM to rock concerts in Colombo, it is a much complex classification lineup ...', 'Stay up-to-date on the latest events and happenings at the Colombo Lotus Tower. From cultural festivals to corporate conferences, our tower is the perfect venue for any occasion. ... Open Arena. Join us for the Colombo Next Level Party with Doctor! ... Lotus Tower Food Festival & Live Music. October 16, 2022 Band Night and DJ Event. October ...', \"{'location': {'name': 'Colombo', 'region': 'Western', 'country': 'Sri Lanka', 'lat': 6.93, 'lon': 79.85, 'tz_id': 'Asia/Colombo', 'localtime_epoch': 1717935739, 'localtime': '2024-06-09 17:52'}, 'current': {'last_updated_epoch': 1717935300, 'last_updated': '2024-06-09 17:45', 'temp_c': 30.4, 'temp_f': 86.7, 'is_day': 1, 'condition': {'text': 'Partly cloudy', 'icon': '//cdn.weatherapi.com/weather/64x64/day/116.png', 'code': 1003}, 'wind_mph': 15.0, 'wind_kph': 24.1, 'wind_degree': 230, 'wind_dir': 'SW', 'pressure_mb': 1008.0, 'pressure_in': 29.77, 'precip_mm': 0.71, 'precip_in': 0.03, 'humidity': 70, 'cloud': 50, 'feelslike_c': 39.4, 'feelslike_f': 103.0, 'windchill_c': 27.6, 'windchill_f': 81.8, 'heatindex_c': 32.1, 'heatindex_f': 89.8, 'dewpoint_c': 24.6, 'dewpoint_f': 76.4, 'vis_km': 10.0, 'vis_miles': 6.0, 'uv': 6.0, 'gust_mph': 20.7, 'gust_kph': 33.3}}\", \"1. Sri Lanka in December is a perfect escape. December is a fantastic time to visit Sri Lanka as the island nation experiences its northeast monsoon, bringing clear skies, sunshine, and pleasant temperatures. It's the ideal weather to explore the rich cultural heritage and lush landscapes of this remarkable country.\", '(LANKAPUVATH | COLOMBO) -The Inspector-General of Police CD Wickramaratne has instructed senior police officers to take measures to issue permits for outdoor musical performances. Accordingly, such outdoor musical performances are permitted subject to health guidelines. Outdoor concerts are permitted to be held on Monday through Thursday from 6.00 pm to 10.00 pm and on Fridays and Saturdays ...', 'The Police said that outdoor events are permitted to be held until 10.00 p.m. from Mondays to Thursdays and until 1.00 a.m. on Fridays and Saturdays. Outdoor events are permitted on Sunday until 12.30 a.m. Sound permits will be issued for the respective events by the area Police. (Colombo Gazette) Post Views: 160.']}}\n"
   ]
  },
  {
   "cell_type": "code",
   "execution_count": null,
   "id": "0ad8a6cc-65d4-4ce7-87aa-4e67d7c23d7b",
   "metadata": {
    "height": 31
   },
   "outputs": [],
   "source": []
  },
  {
   "cell_type": "code",
   "execution_count": null,
   "id": "592b5e62-a203-433c-92a0-3783f490cde1",
   "metadata": {
    "height": 31
   },
   "outputs": [],
   "source": []
  },
  {
   "cell_type": "code",
   "execution_count": null,
   "id": "14fa923c-7e4f-42d1-965f-0f8ccd50fbd7",
   "metadata": {
    "height": 31
   },
   "outputs": [],
   "source": []
  },
  {
   "cell_type": "code",
   "execution_count": null,
   "id": "570c6245-2837-4ac5-983b-95f61f3ac10d",
   "metadata": {
    "height": 31
   },
   "outputs": [],
   "source": []
  },
  {
   "cell_type": "code",
   "execution_count": null,
   "id": "6b910915-b087-4d35-afff-0ec30a5852f1",
   "metadata": {
    "height": 31
   },
   "outputs": [],
   "source": []
  },
  {
   "cell_type": "code",
   "execution_count": null,
   "id": "c4feb6cc-5129-4a99-bb45-851bc07b5709",
   "metadata": {
    "height": 31
   },
   "outputs": [],
   "source": []
  },
  {
   "cell_type": "code",
   "execution_count": null,
   "id": "e85a02b4-96cc-4b01-8792-397a774eb499",
   "metadata": {
    "height": 31
   },
   "outputs": [],
   "source": []
  },
  {
   "cell_type": "code",
   "execution_count": null,
   "id": "ae8b86a6-5e20-4252-b1d8-009b8318345a",
   "metadata": {
    "height": 31
   },
   "outputs": [],
   "source": []
  },
  {
   "cell_type": "code",
   "execution_count": null,
   "id": "af925917-b746-48c9-ac74-62fefbe5246c",
   "metadata": {
    "height": 31
   },
   "outputs": [],
   "source": []
  },
  {
   "cell_type": "code",
   "execution_count": null,
   "id": "d5048f2c-4d82-49a5-9cb1-918d78b39f7b",
   "metadata": {
    "height": 31
   },
   "outputs": [],
   "source": []
  },
  {
   "cell_type": "code",
   "execution_count": null,
   "id": "393f7f1f-68b4-4462-bfa5-b6472ef1304a",
   "metadata": {
    "height": 31
   },
   "outputs": [],
   "source": []
  },
  {
   "cell_type": "code",
   "execution_count": null,
   "id": "43ac0aa9-baa7-4b58-889d-2118cc00c6b5",
   "metadata": {
    "height": 31
   },
   "outputs": [],
   "source": []
  },
  {
   "cell_type": "code",
   "execution_count": null,
   "id": "ed6098b9-e2a9-4767-8cb5-346db835c8d2",
   "metadata": {
    "height": 31
   },
   "outputs": [],
   "source": []
  },
  {
   "cell_type": "code",
   "execution_count": null,
   "id": "2d23cf2a-a179-44dc-9ae3-2eddda4b67b4",
   "metadata": {
    "height": 31
   },
   "outputs": [],
   "source": []
  },
  {
   "cell_type": "code",
   "execution_count": null,
   "id": "14a6005b-0221-4f5e-9be0-0580c1d03126",
   "metadata": {
    "height": 31
   },
   "outputs": [],
   "source": []
  },
  {
   "cell_type": "code",
   "execution_count": null,
   "id": "41c1ec12-f1c8-41ae-bb3e-5f28997b9b99",
   "metadata": {
    "height": 31
   },
   "outputs": [],
   "source": []
  },
  {
   "cell_type": "code",
   "execution_count": null,
   "id": "5c8c07d7-be17-4c17-82c5-6fe1db028b8b",
   "metadata": {
    "height": 31
   },
   "outputs": [],
   "source": []
  },
  {
   "cell_type": "code",
   "execution_count": null,
   "id": "04592c8e-1cfe-4b26-93b5-caf1ed1e7d24",
   "metadata": {
    "height": 31
   },
   "outputs": [],
   "source": []
  },
  {
   "cell_type": "code",
   "execution_count": null,
   "id": "6181c4a9-0e71-4f67-b71f-18a225e37202",
   "metadata": {
    "height": 31
   },
   "outputs": [],
   "source": []
  },
  {
   "cell_type": "code",
   "execution_count": null,
   "id": "e1c478a9-7bfe-49e2-8a7d-1536271f45a6",
   "metadata": {
    "height": 31
   },
   "outputs": [],
   "source": []
  },
  {
   "cell_type": "code",
   "execution_count": null,
   "id": "0a6d6771-3fad-4f37-9b32-45b36ad85c59",
   "metadata": {
    "height": 31
   },
   "outputs": [],
   "source": []
  },
  {
   "cell_type": "code",
   "execution_count": null,
   "id": "a3629eb3-655d-467a-b413-63f547c2de08",
   "metadata": {
    "height": 31
   },
   "outputs": [],
   "source": []
  },
  {
   "cell_type": "code",
   "execution_count": null,
   "id": "f772f251-2b61-4d10-97c5-61cef9207a76",
   "metadata": {
    "height": 31
   },
   "outputs": [],
   "source": []
  },
  {
   "cell_type": "code",
   "execution_count": null,
   "id": "0de92979-7ac5-4a7c-91c1-10806b7d529c",
   "metadata": {
    "height": 31
   },
   "outputs": [],
   "source": []
  },
  {
   "cell_type": "code",
   "execution_count": null,
   "id": "479c4325-f625-4bbf-9d74-cc58f10763f2",
   "metadata": {
    "height": 31
   },
   "outputs": [],
   "source": []
  },
  {
   "cell_type": "code",
   "execution_count": null,
   "id": "c4070be7-72da-42f9-a25d-8a6c628788b8",
   "metadata": {
    "height": 31
   },
   "outputs": [],
   "source": []
  },
  {
   "cell_type": "code",
   "execution_count": null,
   "id": "9289efbe-7033-4f32-8482-2039c5f9db90",
   "metadata": {
    "height": 31
   },
   "outputs": [],
   "source": []
  },
  {
   "cell_type": "code",
   "execution_count": null,
   "id": "25e480bb-22ab-4acb-a42c-71da3d04a5b1",
   "metadata": {
    "height": 31
   },
   "outputs": [],
   "source": []
  },
  {
   "cell_type": "code",
   "execution_count": null,
   "id": "90dea35c-7483-4b3d-b5e3-76eb3a0fe536",
   "metadata": {
    "height": 31
   },
   "outputs": [],
   "source": []
  },
  {
   "cell_type": "code",
   "execution_count": null,
   "id": "e9ac5730-a9d5-4ea4-8546-ebcb265cf1da",
   "metadata": {
    "height": 31
   },
   "outputs": [],
   "source": []
  },
  {
   "cell_type": "code",
   "execution_count": null,
   "id": "96e1f28b-46d8-4bcd-b2e4-730376ee7ccf",
   "metadata": {
    "height": 31
   },
   "outputs": [],
   "source": []
  },
  {
   "cell_type": "code",
   "execution_count": null,
   "id": "22ac7020-b4f4-4bd2-a875-ccee93f83d83",
   "metadata": {
    "height": 31
   },
   "outputs": [],
   "source": []
  },
  {
   "cell_type": "code",
   "execution_count": null,
   "id": "61f79eb9-d1c9-44b0-9efd-a8f9b380332a",
   "metadata": {
    "height": 31
   },
   "outputs": [],
   "source": []
  },
  {
   "cell_type": "code",
   "execution_count": null,
   "id": "ce509206-bde1-43e4-a88f-8a565539d357",
   "metadata": {
    "height": 31
   },
   "outputs": [],
   "source": []
  },
  {
   "cell_type": "code",
   "execution_count": null,
   "id": "bdba1590-9e7b-4c0f-9492-81a07d286c55",
   "metadata": {
    "height": 31
   },
   "outputs": [],
   "source": []
  },
  {
   "cell_type": "code",
   "execution_count": null,
   "id": "aa8fe4a8-5372-479d-b248-af7a295c86c1",
   "metadata": {
    "height": 31
   },
   "outputs": [],
   "source": []
  },
  {
   "cell_type": "code",
   "execution_count": null,
   "id": "7514720a-14bc-4552-ade5-fa03f86f4c73",
   "metadata": {
    "height": 31
   },
   "outputs": [],
   "source": []
  }
 ],
 "metadata": {
  "kernelspec": {
   "display_name": "Python 3 (ipykernel)",
   "language": "python",
   "name": "python3"
  },
  "language_info": {
   "codemirror_mode": {
    "name": "ipython",
    "version": 3
   },
   "file_extension": ".py",
   "mimetype": "text/x-python",
   "name": "python",
   "nbconvert_exporter": "python",
   "pygments_lexer": "ipython3",
   "version": "3.11.9"
  }
 },
 "nbformat": 4,
 "nbformat_minor": 5
}
