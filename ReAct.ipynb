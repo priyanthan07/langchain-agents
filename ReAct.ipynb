{
 "cells": [
  {
   "cell_type": "code",
   "execution_count": 4,
   "metadata": {},
   "outputs": [],
   "source": [
    "import openai\n",
    "import re\n",
    "import httpx\n",
    "import os\n",
    "from dotenv import load_dotenv\n",
    "from openai import OpenAI\n",
    "\n",
    "_ = load_dotenv()\n",
    "\n",
    "\n",
    "client = OpenAI()"
   ]
  },
  {
   "cell_type": "code",
   "execution_count": 5,
   "metadata": {},
   "outputs": [],
   "source": [
    "class Agent:\n",
    "    def __init__(self, system=\"\"):\n",
    "        self.system = system\n",
    "        self.messages = []\n",
    "        if self.system:\n",
    "            self.messages.append({\"role\": \"system\", \"content\": system})\n",
    "\n",
    "    def __call__(self, message):\n",
    "        self.messages.append({\"role\": \"user\", \"content\": message})\n",
    "        result = self.execute()\n",
    "        self.messages.append({\"role\": \"assistant\", \"content\": result})\n",
    "        return result\n",
    "\n",
    "    def execute(self):\n",
    "        completion = client.chat.completions.create(\n",
    "                        model=\"gpt-4o\", \n",
    "                        temperature=0,\n",
    "                        messages=self.messages)\n",
    "        return completion.choices[0].message.content"
   ]
  },
  {
   "cell_type": "code",
   "execution_count": 6,
   "metadata": {},
   "outputs": [],
   "source": [
    "prompt = \"\"\"\n",
    "You run in a loop of Thought, Suggestions ,Action, PAUSE, Observation.\n",
    "At the end of the loop you output an Answer\n",
    "Use Thought to describe your thoughts about the question you have been asked.\n",
    "Use Action to run one of the suitable actions available to you - then return PAUSE.\n",
    "Observation will be the result of running those actions.\n",
    "\n",
    "Your available actions are:\n",
    "\n",
    "calculate:\n",
    "e.g. calculate: 4 * 7 / 3\n",
    "Runs a calculation and returns the number - uses Python so be sure to use floating point syntax if necessary\n",
    "\n",
    "get_average_price:\n",
    "e.g. get_average_price: Lenovo\n",
    "returns average price of the laptop when given the model name\n",
    "\n",
    "Example session:\n",
    "\n",
    "Question: How much does a Lenovo Laptop costs?\n",
    "Thought: I should look the Laptop price using get_average_price\n",
    "                \n",
    "Action: get_average_price: Lenovo\n",
    "PAUSE\n",
    "\n",
    "You will be called again with this:\n",
    "\n",
    "Observation: A lenovo laptop average price is $400\n",
    "\n",
    "You then output:\n",
    "\n",
    "Answer: A lenovo laptop costs $400\n",
    "\"\"\".strip()"
   ]
  },
  {
   "cell_type": "code",
   "execution_count": 7,
   "metadata": {},
   "outputs": [],
   "source": [
    "def calculate(what):\n",
    "    return eval(what)\n",
    "\n",
    "def get_average_price(name):\n",
    "    if name in \"Lenovo\": \n",
    "        return(\"a lenovo laptop average price is $400\")\n",
    "    elif name in \"Dell\":\n",
    "        return(\"a Dell laptop average price is $450.\")\n",
    "    elif name in \"Asus\":\n",
    "        return(\"a Asus laptop average price is $500\")\n",
    "    else:\n",
    "        return(\"An laptop average price is $430\")\n",
    "\n",
    "Tools = {\n",
    "    \"calculate\": calculate,\n",
    "    \"get_average_price\": get_average_price\n",
    "}"
   ]
  },
  {
   "cell_type": "code",
   "execution_count": 8,
   "metadata": {},
   "outputs": [],
   "source": [
    "action_re = re.compile('^Action: (\\w+): (.*)$')   # python regular expression to selection action\n",
    "def query(question, max_turns=5):\n",
    "    i = 0\n",
    "    bot = Agent(prompt)\n",
    "    next_prompt = question\n",
    "    while i < max_turns:\n",
    "        i += 1\n",
    "        result = bot(next_prompt)\n",
    "        print(result)\n",
    "        actions = [\n",
    "            action_re.match(a) \n",
    "            for a in result.split('\\n') \n",
    "            if action_re.match(a)\n",
    "        ]\n",
    "        if actions:\n",
    "            print(actions)\n",
    "            # There is an action to run\n",
    "            action, action_input = actions[0].groups()\n",
    "            if action not in Tools:\n",
    "                raise Exception(\"Unknown action: {}: {}\".format(action, action_input))\n",
    "            print(\" -- running {} {}\".format(action, action_input))\n",
    "            observation = Tools[action](action_input)\n",
    "            print(\"Observation:\", observation)\n",
    "            next_prompt = \"Observation: {}\".format(observation)\n",
    "        else:\n",
    "            return"
   ]
  },
  {
   "cell_type": "code",
   "execution_count": 9,
   "metadata": {},
   "outputs": [
    {
     "name": "stdout",
     "output_type": "stream",
     "text": [
      "Thought: I need to find the average prices for both Lenovo and Asus laptops and then calculate the total cost for 2 Lenovo laptops and 1 Asus laptop.\n",
      "\n",
      "Action: get_average_price: Lenovo\n",
      "PAUSE\n",
      "[<re.Match object; span=(0, 33), match='Action: get_average_price: Lenovo'>]\n",
      " -- running get_average_price Lenovo\n",
      "Observation: a lenovo laptop average price is $400\n",
      "Thought: Now I need to find the average price of an Asus laptop.\n",
      "\n",
      "Action: get_average_price: Asus\n",
      "PAUSE\n",
      "[<re.Match object; span=(0, 31), match='Action: get_average_price: Asus'>]\n",
      " -- running get_average_price Asus\n",
      "Observation: a Asus laptop average price is $500\n",
      "Thought: I now have the average prices for both Lenovo and Asus laptops. I need to calculate the total cost for 2 Lenovo laptops and 1 Asus laptop.\n",
      "\n",
      "Action: calculate: (2 * 400) + 500\n",
      "PAUSE\n",
      "[<re.Match object; span=(0, 34), match='Action: calculate: (2 * 400) + 500'>]\n",
      " -- running calculate (2 * 400) + 500\n",
      "Observation: 1300\n",
      "Answer: The total cost for 2 Lenovo laptops and 1 Asus laptop is $1300.\n"
     ]
    }
   ],
   "source": [
    "question = \"\"\"what is the total cost for 2 lenovo and a Asus laptops\"\"\"\n",
    "query(question)"
   ]
  },
  {
   "cell_type": "code",
   "execution_count": null,
   "metadata": {},
   "outputs": [],
   "source": []
  }
 ],
 "metadata": {
  "kernelspec": {
   "display_name": "base",
   "language": "python",
   "name": "python3"
  },
  "language_info": {
   "codemirror_mode": {
    "name": "ipython",
    "version": 3
   },
   "file_extension": ".py",
   "mimetype": "text/x-python",
   "name": "python",
   "nbconvert_exporter": "python",
   "pygments_lexer": "ipython3",
   "version": "3.11.7"
  }
 },
 "nbformat": 4,
 "nbformat_minor": 2
}
